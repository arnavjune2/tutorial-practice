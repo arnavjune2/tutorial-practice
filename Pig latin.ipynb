{
 "cells": [
  {
   "cell_type": "code",
   "execution_count": 1,
   "metadata": {},
   "outputs": [],
   "source": [
    "###Pig Latin is a silly mad up language that alter English words . If a word begins with a vowel , the word 'yay' is\n",
    "###added to the end of it . If a word started with a consonant  or consonant cluster(ch .or gr),\\\n",
    "###that consonant or cluster is moved to the end of the word followed by ay."
   ]
  },
  {
   "cell_type": "code",
   "execution_count": 15,
   "metadata": {},
   "outputs": [
    {
     "name": "stdout",
     "output_type": "stream",
     "text": [
      "enter the messageMy name is AL SWEIGART and I am 4,000 years old.\n"
     ]
    }
   ],
   "source": [
    "message = input('enter the message')\n",
    "vowels = 'a e i o u'.split()\n",
    "pigLatin = []\n"
   ]
  },
  {
   "cell_type": "code",
   "execution_count": 16,
   "metadata": {},
   "outputs": [
    {
     "name": "stdout",
     "output_type": "stream",
     "text": [
      "Ymay amenay isyay ALYAY WEIGARTSAY andyay IYAY amyay 4,000 earsyay oldyay.\n"
     ]
    }
   ],
   "source": [
    "for word in message.split():\n",
    "    prefixNonLetters = ''\n",
    "    while len(word)>0 and not word[0].isalpha():\n",
    "        prefixNonLetters += word[0]\n",
    "        word = word[1:]\n",
    "    if(len(word)==0):\n",
    "        pigLatin.append(prefixNonLetters)\n",
    "        continue\n",
    "    suffixNonLetters = ''\n",
    "    while len(word) >0 and not word[-1].isalpha():\n",
    "        suffixNonLetters += word[-1]\n",
    "        word = word[:-1]\n",
    "                                    \n",
    "    \n",
    "    \n",
    "    wasUpper = word.isupper()\n",
    "    wasTitle = word.istitle()\n",
    "    \n",
    "    word = word.lower()\n",
    "    \n",
    "    if(word[0] in vowels):\n",
    "        word = ''.join([word , 'yay'])\n",
    "        \n",
    "    else:\n",
    "        word = ''.join([word[1:],word[0],'ay'])\n",
    "        \n",
    "    \n",
    "    if(wasUpper):\n",
    "        word = word.upper()\n",
    "    elif(wasTitle):\n",
    "        word = word.title()\n",
    "        \n",
    "    pigLatin.append(prefixNonLetters+word+suffixNonLetters)\n",
    "    \n",
    "print(' '.join(pigLatin))\n",
    "        \n",
    "        "
   ]
  },
  {
   "cell_type": "code",
   "execution_count": null,
   "metadata": {},
   "outputs": [],
   "source": []
  }
 ],
 "metadata": {
  "kernelspec": {
   "display_name": "Python 3",
   "language": "python",
   "name": "python3"
  },
  "language_info": {
   "codemirror_mode": {
    "name": "ipython",
    "version": 3
   },
   "file_extension": ".py",
   "mimetype": "text/x-python",
   "name": "python",
   "nbconvert_exporter": "python",
   "pygments_lexer": "ipython3",
   "version": "3.7.3"
  }
 },
 "nbformat": 4,
 "nbformat_minor": 2
}
